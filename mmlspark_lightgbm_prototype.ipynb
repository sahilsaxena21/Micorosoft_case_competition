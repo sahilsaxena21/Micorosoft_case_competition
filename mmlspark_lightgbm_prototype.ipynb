{
  "nbformat": 4,
  "nbformat_minor": 0,
  "metadata": {
    "language_info": {
      "mimetype": "text/x-python",
      "name": "python",
      "pygments_lexer": "ipython3",
      "codemirror_mode": {
        "name": "ipython",
        "version": 3
      },
      "version": "3.6.8",
      "nbconvert_exporter": "python",
      "file_extension": ".py"
    },
    "name": "mmlspark_lightgbm_criteo",
    "notebookId": 4378841618340966,
    "kernelspec": {
      "display_name": "Python (reco_pyspark)",
      "language": "python",
      "name": "reco_pyspark"
    },
    "celltoolbar": "Tags",
    "colab": {
      "name": "mmlspark_lightgbm_prototype.ipynb",
      "provenance": [],
      "collapsed_sections": []
    }
  },
  "cells": [
    {
      "cell_type": "markdown",
      "metadata": {
        "id": "YgRr6l8w6bwF",
        "colab_type": "text"
      },
      "source": [
        "# Content-Based Personalization with LightGBM on Spark\n",
        "\n",
        "This notebook provides a quick prototype of how to train a [LightGBM](https://github.com/Microsoft/Lightgbm) model on Spark using [MMLSpark](https://github.com/Azure/mmlspark) for a content-based personalization scenario.\n",
        "\n",
        "We use our dataset which is adapted from the [CRITEO dataset](https://www.kaggle.com/c/criteo-display-ad-challenge), a well known dataset of website ads that can be used to optimize the Click-Through Rate (CTR). Refer to the customer-store interaction PDF for an overview of the dataset contents.\n",
        "\n",
        "The model is based on [LightGBM](https://github.com/Microsoft/Lightgbm), which is a gradient boosting framework that uses tree-based learning algorithms. Finally, we take advantage of\n",
        "[MMLSpark](https://github.com/Azure/mmlspark) library, which allows LightGBM to be called in a Spark environment and be computed distributely."
      ]
    },
    {
      "cell_type": "markdown",
      "metadata": {
        "id": "Xf1EKPOz6bwG",
        "colab_type": "text"
      },
      "source": [
        "## Global Settings and Imports"
      ]
    },
    {
      "cell_type": "code",
      "metadata": {
        "id": "PGUTAlY66bwJ",
        "colab_type": "code",
        "colab": {},
        "outputId": "71f10993-9588-4dd0-99bd-d19ec6c0465e"
      },
      "source": [
        "!pip install tqdm\n",
        "!pip install papermill\n",
        "from azureml.core import Workspace\n",
        "\n",
        "subscription_id = '796515a0-d9b7-4ab5-9507-440d24feca8e'\n",
        "resource_group  = 'azure_competition'\n",
        "workspace_name  = 'workspace_ml'\n",
        "\n",
        "try:\n",
        "    ws = Workspace(subscription_id = subscription_id, resource_group = resource_group, workspace_name = workspace_name)\n",
        "    ws.write_config()\n",
        "    print('Library configuration succeeded')\n",
        "except:\n",
        "    print('Workspace not found')"
      ],
      "execution_count": 0,
      "outputs": [
        {
          "output_type": "display_data",
          "data": {
            "text/html": [
              "<style scoped>\n",
              "  .ansiout {\n",
              "    display: block;\n",
              "    unicode-bidi: embed;\n",
              "    white-space: pre-wrap;\n",
              "    word-wrap: break-word;\n",
              "    word-break: break-all;\n",
              "    font-family: \"Source Code Pro\", \"Menlo\", monospace;;\n",
              "    font-size: 13px;\n",
              "    color: #555;\n",
              "    margin-left: 4px;\n",
              "    line-height: 19px;\n",
              "  }\n",
              "</style>\n",
              "<div class=\"ansiout\">Library configuration succeeded\n",
              "</div>"
            ]
          },
          "metadata": {
            "tags": []
          }
        }
      ]
    },
    {
      "cell_type": "code",
      "metadata": {
        "id": "q85k8ttA6bwR",
        "colab_type": "code",
        "colab": {},
        "outputId": "57427257-96cc-4078-f607-af503315eea1"
      },
      "source": [
        "import os\n",
        "import sys\n",
        "\n",
        "sys.path.append(\"../../\")\n",
        "\n",
        "import pyspark\n",
        "from pyspark.ml import PipelineModel\n",
        "from pyspark.ml.feature import FeatureHasher\n",
        "import papermill as pm\n",
        "\n",
        "from reco_utils.common.spark_utils import start_or_get_spark\n",
        "from reco_utils.common.notebook_utils import is_databricks\n",
        "from reco_utils.dataset.criteo import load_spark_df\n",
        "from reco_utils.dataset.spark_splitters import spark_random_split\n",
        "\n",
        "# Setup MML Spark\n",
        "if not is_databricks():\n",
        "    # get the maven coordinates for MML Spark from databricks_install script\n",
        "    from scripts.databricks_install import MMLSPARK_INFO\n",
        "    packages = [MMLSPARK_INFO[\"maven\"][\"coordinates\"]]\n",
        "    repo = MMLSPARK_INFO[\"maven\"].get(\"repo\")\n",
        "    spark = start_or_get_spark(packages=packages, repository=repo)\n",
        "    dbutils = None\n",
        "    print(\"MMLSpark version: {}\".format(MMLSPARK_INFO['maven']['coordinates']))\n",
        "\n",
        "from mmlspark.train import ComputeModelStatistics\n",
        "from mmlspark.lightgbm import LightGBMClassifier\n",
        "\n",
        "print(\"System version: {}\".format(sys.version))\n",
        "print(\"PySpark version: {}\".format(pyspark.version.__version__))"
      ],
      "execution_count": 0,
      "outputs": [
        {
          "output_type": "display_data",
          "data": {
            "text/html": [
              "<style scoped>\n",
              "  .ansiout {\n",
              "    display: block;\n",
              "    unicode-bidi: embed;\n",
              "    white-space: pre-wrap;\n",
              "    word-wrap: break-word;\n",
              "    word-break: break-all;\n",
              "    font-family: \"Source Code Pro\", \"Menlo\", monospace;;\n",
              "    font-size: 13px;\n",
              "    color: #555;\n",
              "    margin-left: 4px;\n",
              "    line-height: 19px;\n",
              "  }\n",
              "</style>\n",
              "<div class=\"ansiout\">System version: 3.7.3 (default, Feb 20 2020, 02:03:03) \n",
              "[GCC 5.4.0 20160609]\n",
              "PySpark version: 2.4.6.dev0\n",
              "</div>"
            ]
          },
          "metadata": {
            "tags": []
          }
        }
      ]
    },
    {
      "cell_type": "code",
      "metadata": {
        "id": "wF_p7JA96bwU",
        "colab_type": "code",
        "colab": {}
      },
      "source": [
        ""
      ],
      "execution_count": 0,
      "outputs": []
    },
    {
      "cell_type": "code",
      "metadata": {
        "tags": [
          "parameters"
        ],
        "id": "gmfJnhic6bwX",
        "colab_type": "code",
        "colab": {},
        "outputId": "d2d79159-8c0e-4365-80e9-c5a784bbb95b"
      },
      "source": [
        "# Prototype data size, it can be \"sample\" or \"full\"\n",
        "DATA_SIZE = \"sample\"\n",
        "\n",
        "# LightGBM parameters\n",
        "# More details on parameters: https://lightgbm.readthedocs.io/en/latest/Parameters-Tuning.html\n",
        "NUM_LEAVES = 32\n",
        "NUM_ITERATIONS = 50\n",
        "LEARNING_RATE = 0.1\n",
        "FEATURE_FRACTION = 0.8\n",
        "EARLY_STOPPING_ROUND = 10\n",
        "\n",
        "# Model name\n",
        "MODEL_NAME = 'lightgbm_prototype.mml'"
      ],
      "execution_count": 0,
      "outputs": [
        {
          "output_type": "display_data",
          "data": {
            "text/html": [
              "<style scoped>\n",
              "  .ansiout {\n",
              "    display: block;\n",
              "    unicode-bidi: embed;\n",
              "    white-space: pre-wrap;\n",
              "    word-wrap: break-word;\n",
              "    word-break: break-all;\n",
              "    font-family: \"Source Code Pro\", \"Menlo\", monospace;;\n",
              "    font-size: 13px;\n",
              "    color: #555;\n",
              "    margin-left: 4px;\n",
              "    line-height: 19px;\n",
              "  }\n",
              "</style>\n",
              "<div class=\"ansiout\"></div>"
            ]
          },
          "metadata": {
            "tags": []
          }
        }
      ]
    },
    {
      "cell_type": "markdown",
      "metadata": {
        "id": "KblxM-x46bwa",
        "colab_type": "text"
      },
      "source": [
        "## Data Preparation\n",
        "\n",
        "The dataset contains 4 labels. The label is multi-class depending on the category of product the customer has most affinity towards. Please refer to customer-store interaction PDF for an overview of the dataset. "
      ]
    },
    {
      "cell_type": "code",
      "metadata": {
        "id": "gxIpSp1n6bwa",
        "colab_type": "code",
        "colab": {},
        "outputId": "2198a566-5b1f-4102-84ba-28e8189b897a"
      },
      "source": [
        "# File location and type\n",
        "file_location = \"/FileStore/tables/synth_data.csv\"\n",
        "file_type = \"csv\"\n",
        "\n",
        "# CSV options\n",
        "infer_schema = \"false\"\n",
        "first_row_is_header = \"false\"\n",
        "delimiter = \",\"\n",
        "\n",
        "# The applied options are for CSV files. For other file types, these will be ignored.\n",
        "raw_data = spark.read.format(file_type) \\\n",
        "  .option(\"inferSchema\", \"true\") \\\n",
        "  .option(\"header\", \"true\") \\\n",
        "  .option(\"sep\", delimiter) \\\n",
        "  .load(file_location)"
      ],
      "execution_count": 0,
      "outputs": [
        {
          "output_type": "display_data",
          "data": {
            "text/html": [
              "<style scoped>\n",
              "  .ansiout {\n",
              "    display: block;\n",
              "    unicode-bidi: embed;\n",
              "    white-space: pre-wrap;\n",
              "    word-wrap: break-word;\n",
              "    word-break: break-all;\n",
              "    font-family: \"Source Code Pro\", \"Menlo\", monospace;;\n",
              "    font-size: 13px;\n",
              "    color: #555;\n",
              "    margin-left: 4px;\n",
              "    line-height: 19px;\n",
              "  }\n",
              "</style>\n",
              "<div class=\"ansiout\"></div>"
            ]
          },
          "metadata": {
            "tags": []
          }
        }
      ]
    },
    {
      "cell_type": "code",
      "metadata": {
        "id": "Jtt2F-J56bwg",
        "colab_type": "code",
        "colab": {},
        "outputId": "be37c479-8ffe-4234-ed66-f0ae76ff15b2"
      },
      "source": [
        "raw_data.limit(2).toPandas().head()"
      ],
      "execution_count": 0,
      "outputs": [
        {
          "output_type": "display_data",
          "data": {
            "text/html": [
              "<div>\n",
              "<style scoped>\n",
              "    .dataframe tbody tr th:only-of-type {\n",
              "        vertical-align: middle;\n",
              "    }\n",
              "\n",
              "    .dataframe tbody tr th {\n",
              "        vertical-align: top;\n",
              "    }\n",
              "\n",
              "    .dataframe thead th {\n",
              "        text-align: right;\n",
              "    }\n",
              "</style>\n",
              "<table border=\"1\" class=\"dataframe\">\n",
              "  <thead>\n",
              "    <tr style=\"text-align: right;\">\n",
              "      <th></th>\n",
              "      <th>_c0</th>\n",
              "      <th>customer_ID</th>\n",
              "      <th>category</th>\n",
              "      <th>y</th>\n",
              "      <th>pur_value</th>\n",
              "      <th>city</th>\n",
              "    </tr>\n",
              "  </thead>\n",
              "  <tbody>\n",
              "    <tr>\n",
              "      <th>0</th>\n",
              "      <td>0</td>\n",
              "      <td>17850.0</td>\n",
              "      <td>Video Game Accessories</td>\n",
              "      <td>1</td>\n",
              "      <td>255.0</td>\n",
              "      <td>Montreal</td>\n",
              "    </tr>\n",
              "    <tr>\n",
              "      <th>1</th>\n",
              "      <td>1</td>\n",
              "      <td>17850.0</td>\n",
              "      <td>Other</td>\n",
              "      <td>1</td>\n",
              "      <td>339.0</td>\n",
              "      <td>Edmonton</td>\n",
              "    </tr>\n",
              "  </tbody>\n",
              "</table>\n",
              "</div>"
            ]
          },
          "metadata": {
            "tags": []
          }
        }
      ]
    },
    {
      "cell_type": "code",
      "metadata": {
        "id": "bjgs5T156bwj",
        "colab_type": "code",
        "colab": {},
        "outputId": "d7ccc7d2-1da6-44c0-e605-a4dbfb11ed4a"
      },
      "source": [
        "raw_data.createOrReplaceTempView(\"synth_data\")"
      ],
      "execution_count": 0,
      "outputs": [
        {
          "output_type": "display_data",
          "data": {
            "text/html": [
              "<style scoped>\n",
              "  .ansiout {\n",
              "    display: block;\n",
              "    unicode-bidi: embed;\n",
              "    white-space: pre-wrap;\n",
              "    word-wrap: break-word;\n",
              "    word-break: break-all;\n",
              "    font-family: \"Source Code Pro\", \"Menlo\", monospace;;\n",
              "    font-size: 13px;\n",
              "    color: #555;\n",
              "    margin-left: 4px;\n",
              "    line-height: 19px;\n",
              "  }\n",
              "</style>\n",
              "<div class=\"ansiout\"></div>"
            ]
          },
          "metadata": {
            "tags": []
          }
        }
      ]
    },
    {
      "cell_type": "markdown",
      "metadata": {
        "id": "Hg89ZRVu6bw3",
        "colab_type": "text"
      },
      "source": [
        "### Feature Processing\n",
        "First, the dataset is splitted randomly for training and testing and feature processing is applied to each dataset."
      ]
    },
    {
      "cell_type": "code",
      "metadata": {
        "id": "o_sSGY616bw3",
        "colab_type": "code",
        "colab": {},
        "outputId": "6404ff5a-2816-4eac-d550-2209c98e648d"
      },
      "source": [
        "raw_train, raw_test = spark_random_split(raw_data, ratio=0.8, seed=42)"
      ],
      "execution_count": 0,
      "outputs": [
        {
          "output_type": "display_data",
          "data": {
            "text/html": [
              "<style scoped>\n",
              "  .ansiout {\n",
              "    display: block;\n",
              "    unicode-bidi: embed;\n",
              "    white-space: pre-wrap;\n",
              "    word-wrap: break-word;\n",
              "    word-break: break-all;\n",
              "    font-family: \"Source Code Pro\", \"Menlo\", monospace;;\n",
              "    font-size: 13px;\n",
              "    color: #555;\n",
              "    margin-left: 4px;\n",
              "    line-height: 19px;\n",
              "  }\n",
              "</style>\n",
              "<div class=\"ansiout\"></div>"
            ]
          },
          "metadata": {
            "tags": []
          }
        }
      ]
    },
    {
      "cell_type": "code",
      "metadata": {
        "id": "sl1alK6W6bw6",
        "colab_type": "code",
        "colab": {},
        "outputId": "200923eb-da4e-449b-b5fa-1ee0ec69d690"
      },
      "source": [
        "columns = [c for c in raw_data.columns if c != 'y']\n",
        "feature_processor = FeatureHasher(inputCols=columns, outputCol='features')"
      ],
      "execution_count": 0,
      "outputs": [
        {
          "output_type": "display_data",
          "data": {
            "text/html": [
              "<style scoped>\n",
              "  .ansiout {\n",
              "    display: block;\n",
              "    unicode-bidi: embed;\n",
              "    white-space: pre-wrap;\n",
              "    word-wrap: break-word;\n",
              "    word-break: break-all;\n",
              "    font-family: \"Source Code Pro\", \"Menlo\", monospace;;\n",
              "    font-size: 13px;\n",
              "    color: #555;\n",
              "    margin-left: 4px;\n",
              "    line-height: 19px;\n",
              "  }\n",
              "</style>\n",
              "<div class=\"ansiout\"></div>"
            ]
          },
          "metadata": {
            "tags": []
          }
        }
      ]
    },
    {
      "cell_type": "code",
      "metadata": {
        "id": "UCiWcTZH6bw9",
        "colab_type": "code",
        "colab": {},
        "outputId": "76fb22f9-37c3-4845-ffaa-99c225be569d"
      },
      "source": [
        "train = feature_processor.transform(raw_train)\n",
        "test = feature_processor.transform(raw_test)"
      ],
      "execution_count": 0,
      "outputs": [
        {
          "output_type": "display_data",
          "data": {
            "text/html": [
              "<style scoped>\n",
              "  .ansiout {\n",
              "    display: block;\n",
              "    unicode-bidi: embed;\n",
              "    white-space: pre-wrap;\n",
              "    word-wrap: break-word;\n",
              "    word-break: break-all;\n",
              "    font-family: \"Source Code Pro\", \"Menlo\", monospace;;\n",
              "    font-size: 13px;\n",
              "    color: #555;\n",
              "    margin-left: 4px;\n",
              "    line-height: 19px;\n",
              "  }\n",
              "</style>\n",
              "<div class=\"ansiout\"></div>"
            ]
          },
          "metadata": {
            "tags": []
          }
        }
      ]
    },
    {
      "cell_type": "markdown",
      "metadata": {
        "id": "Dq03bLnz6bxA",
        "colab_type": "text"
      },
      "source": [
        "## Model Training\n",
        "In MMLSpark, the LightGBM implementation for binary classification is invoked using the `LightGBMClassifier` class and specifying the objective as `\"multiclass\"`. <br><br>\n",
        "\n",
        "### Hyper-parameters\n",
        "Below are some of the key [hyper-parameters](https://github.com/Microsoft/LightGBM/blob/master/docs/Parameters-Tuning.rst) for training a LightGBM classifier on Spark:\n",
        "- `numLeaves`: the number of leaves in each tree\n",
        "- `numIterations`: the number of iterations to apply boosting\n",
        "- `learningRate`: the learning rate for training across trees\n",
        "- `featureFraction`: the fraction of features used for training a tree\n",
        "- `earlyStoppingRound`: round at which early stopping can be applied to avoid overfitting"
      ]
    },
    {
      "cell_type": "code",
      "metadata": {
        "id": "-iBhgcgX6bxB",
        "colab_type": "code",
        "colab": {},
        "outputId": "bc9c9a95-29d6-4ee5-d805-ea2ca399f269"
      },
      "source": [
        "lgbm = LightGBMClassifier(\n",
        "    labelCol=\"y\",\n",
        "    featuresCol=\"features\",\n",
        "    objective=\"multiclass\",\n",
        "    isUnbalance=False,\n",
        "    boostingType=\"gbdt\",\n",
        "    boostFromAverage=True,\n",
        "    baggingSeed=42,\n",
        "    numLeaves=NUM_LEAVES,\n",
        "    numIterations=NUM_ITERATIONS,\n",
        "    learningRate=LEARNING_RATE,\n",
        "    featureFraction=FEATURE_FRACTION,\n",
        "    earlyStoppingRound=EARLY_STOPPING_ROUND\n",
        ")"
      ],
      "execution_count": 0,
      "outputs": [
        {
          "output_type": "display_data",
          "data": {
            "text/html": [
              "<style scoped>\n",
              "  .ansiout {\n",
              "    display: block;\n",
              "    unicode-bidi: embed;\n",
              "    white-space: pre-wrap;\n",
              "    word-wrap: break-word;\n",
              "    word-break: break-all;\n",
              "    font-family: \"Source Code Pro\", \"Menlo\", monospace;;\n",
              "    font-size: 13px;\n",
              "    color: #555;\n",
              "    margin-left: 4px;\n",
              "    line-height: 19px;\n",
              "  }\n",
              "</style>\n",
              "<div class=\"ansiout\"></div>"
            ]
          },
          "metadata": {
            "tags": []
          }
        }
      ]
    },
    {
      "cell_type": "markdown",
      "metadata": {
        "id": "-TR-tisV6bxE",
        "colab_type": "text"
      },
      "source": [
        "### Model Training and Evaluation"
      ]
    },
    {
      "cell_type": "code",
      "metadata": {
        "id": "vmbaBIAy6bxE",
        "colab_type": "code",
        "colab": {},
        "outputId": "cb1d7032-a533-4a4e-cd26-5e5ab7a2dd05"
      },
      "source": [
        "model = lgbm.fit(train)\n",
        "predictions = model.transform(test)"
      ],
      "execution_count": 0,
      "outputs": [
        {
          "output_type": "display_data",
          "data": {
            "text/html": [
              "<style scoped>\n",
              "  .ansiout {\n",
              "    display: block;\n",
              "    unicode-bidi: embed;\n",
              "    white-space: pre-wrap;\n",
              "    word-wrap: break-word;\n",
              "    word-break: break-all;\n",
              "    font-family: \"Source Code Pro\", \"Menlo\", monospace;;\n",
              "    font-size: 13px;\n",
              "    color: #555;\n",
              "    margin-left: 4px;\n",
              "    line-height: 19px;\n",
              "  }\n",
              "</style>\n",
              "<div class=\"ansiout\"></div>"
            ]
          },
          "metadata": {
            "tags": []
          }
        }
      ]
    },
    {
      "cell_type": "code",
      "metadata": {
        "id": "-DAFBIVz6bxI",
        "colab_type": "code",
        "colab": {},
        "outputId": "de67b9dc-e046-4184-e2fe-d0797c631350"
      },
      "source": [
        "evaluator = (\n",
        "    ComputeModelStatistics()\n",
        "    .setScoredLabelsCol(\"prediction\")\n",
        "    .setLabelCol(\"y\")\n",
        "    .setEvaluationMetric(\"classification\")\n",
        ")\n",
        "\n",
        "result = evaluator.transform(predictions)\n",
        "# auc = result.select(\"confusion_matrix\").collect()[0][0]\n",
        "result.show()"
      ],
      "execution_count": 0,
      "outputs": [
        {
          "output_type": "display_data",
          "data": {
            "text/html": [
              "<style scoped>\n",
              "  .ansiout {\n",
              "    display: block;\n",
              "    unicode-bidi: embed;\n",
              "    white-space: pre-wrap;\n",
              "    word-wrap: break-word;\n",
              "    word-break: break-all;\n",
              "    font-family: \"Source Code Pro\", \"Menlo\", monospace;;\n",
              "    font-size: 13px;\n",
              "    color: #555;\n",
              "    margin-left: 4px;\n",
              "    line-height: 19px;\n",
              "  }\n",
              "</style>\n",
              "<div class=\"ansiout\">+---------------+--------------------+------------------+------------------+------------------+------------------+------------------------+---------------------+\n",
              "evaluation_type|    confusion_matrix|          accuracy|         precision|            recall|  average_accuracy|macro_averaged_precision|macro_averaged_recall|\n",
              "+---------------+--------------------+------------------+------------------+------------------+------------------+------------------------+---------------------+\n",
              " Classification|8153.0  1.0    31...|0.8309816121326593|0.8309816121326593|0.8309816121326593|0.9323926448530637|      0.8270688979196852|   0.4217247010379522|\n",
              "+---------------+--------------------+------------------+------------------+------------------+------------------+------------------------+---------------------+\n",
              "\n",
              "</div>"
            ]
          },
          "metadata": {
            "tags": []
          }
        }
      ]
    },
    {
      "cell_type": "markdown",
      "metadata": {
        "id": "a99idHze6bxN",
        "colab_type": "text"
      },
      "source": [
        "## Model Saving \n",
        "The full pipeline for operating on raw data including feature processing and model prediction can be saved and reloaded for use in another workflow."
      ]
    },
    {
      "cell_type": "code",
      "metadata": {
        "id": "hb-wgGMo6bxN",
        "colab_type": "code",
        "colab": {},
        "outputId": "2d631eae-7dc4-4091-c190-f1d145ad4926"
      },
      "source": [
        "# save model\n",
        "pipeline = PipelineModel(stages=[feature_processor, model])\n",
        "pipeline.write().overwrite().save(MODEL_NAME)"
      ],
      "execution_count": 0,
      "outputs": [
        {
          "output_type": "display_data",
          "data": {
            "text/html": [
              "<style scoped>\n",
              "  .ansiout {\n",
              "    display: block;\n",
              "    unicode-bidi: embed;\n",
              "    white-space: pre-wrap;\n",
              "    word-wrap: break-word;\n",
              "    word-break: break-all;\n",
              "    font-family: \"Source Code Pro\", \"Menlo\", monospace;;\n",
              "    font-size: 13px;\n",
              "    color: #555;\n",
              "    margin-left: 4px;\n",
              "    line-height: 19px;\n",
              "  }\n",
              "</style>\n",
              "<div class=\"ansiout\"></div>"
            ]
          },
          "metadata": {
            "tags": []
          }
        }
      ]
    },
    {
      "cell_type": "code",
      "metadata": {
        "id": "oEWheAMJ6bxR",
        "colab_type": "code",
        "colab": {},
        "outputId": "ffc0dfd6-e768-4eda-a473-a0a0d689ba31"
      },
      "source": [
        "# cleanup spark instance\n",
        "if not is_databricks():\n",
        "    spark.stop()"
      ],
      "execution_count": 0,
      "outputs": [
        {
          "output_type": "display_data",
          "data": {
            "text/html": [
              "<style scoped>\n",
              "  .ansiout {\n",
              "    display: block;\n",
              "    unicode-bidi: embed;\n",
              "    white-space: pre-wrap;\n",
              "    word-wrap: break-word;\n",
              "    word-break: break-all;\n",
              "    font-family: \"Source Code Pro\", \"Menlo\", monospace;;\n",
              "    font-size: 13px;\n",
              "    color: #555;\n",
              "    margin-left: 4px;\n",
              "    line-height: 19px;\n",
              "  }\n",
              "</style>\n",
              "<div class=\"ansiout\"></div>"
            ]
          },
          "metadata": {
            "tags": []
          }
        }
      ]
    },
    {
      "cell_type": "markdown",
      "metadata": {
        "id": "blLWSjpJ6bxU",
        "colab_type": "text"
      },
      "source": [
        "## Additional Reading\n",
        "\\[1\\] Guolin Ke, Qi Meng, Thomas Finley, Taifeng Wang, Wei Chen, Weidong Ma, Qiwei Ye, and Tie-Yan Liu. 2017. LightGBM: A highly efficient gradient boosting decision tree. In Advances in Neural Information Processing Systems. 3146–3154. https://papers.nips.cc/paper/6907-lightgbm-a-highly-efficient-gradient-boosting-decision-tree.pdf <br>\n",
        "\\[2\\] MML Spark: https://mmlspark.blob.core.windows.net/website/index.html <br>"
      ]
    }
  ]
}